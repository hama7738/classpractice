{
 "cells": [
  {
   "cell_type": "code",
   "execution_count": 7,
   "metadata": {
    "collapsed": true
   },
   "outputs": [],
   "source": [
    "## https://qiita.com/Kodaira_/items/42dfe18c81af98bf0db3"
   ]
  },
  {
   "cell_type": "code",
   "execution_count": 8,
   "metadata": {
    "collapsed": true
   },
   "outputs": [],
   "source": [
    "class Creature(object):\n",
    "    def __init__(self, level=1, weapon = None):\n",
    "        self.level = level\n",
    "        self.hp = 0\n",
    "        self.mp = 0\n",
    "        self.attack = 0\n",
    "        self.defence = 0\n",
    "        self.weapon = weapon\n",
    "        self.job = \"neet\"\n",
    "        \n",
    "    def status(self):\n",
    "        return \"Job:{} | HP:{} | MP:{} | Atk:{} | Def:{} | Weapon:{}\".format \\\n",
    "                (self.job, self.hp, self.mp, self.attack, self.defence, self.weapon)"
   ]
  },
  {
   "cell_type": "markdown",
   "metadata": {},
   "source": [
    "## super()説明\n",
    "スーパークラスとは -> あるクラスの使用を継承して新しいクラスを作成する際に、元となるクラスのこと。\n",
    "新しいクラスはサブクラス(subclass), 派生クラス (derived class), 子クラス (child class) などと呼ぶ\n",
    "\n",
    "super() -> サブクラスからスーパークラスを参照し、スーパークラスのメソッドを利用することができる。"
   ]
  },
  {
   "cell_type": "code",
   "execution_count": 9,
   "metadata": {},
   "outputs": [],
   "source": [
    "class Warrior(Creature):\n",
    "    def __init__(self, level):\n",
    "        super().__init__(level)\n",
    "        self.attack += 3 * level\n",
    "        if self.weapon is None:\n",
    "            self.weapon = \"sword\"\n",
    "        if self.job == \"neet\":\n",
    "            self.job = \"Warrior\"\n",
    "        else: self.job += \"Warrior\""
   ]
  },
  {
   "cell_type": "code",
   "execution_count": 10,
   "metadata": {
    "collapsed": true
   },
   "outputs": [],
   "source": [
    "class Magician(Creature):\n",
    "    def __init__(self, level):\n",
    "        super().__init__(level)\n",
    "        self.mp += 4*level\n",
    "        if self.weapon is None:\n",
    "            self.weapon = \"rod\"\n",
    "        if self.job == \"neet\":\n",
    "            self.job = \"Magic\"\n",
    "        else: self.job += \"Magic\""
   ]
  },
  {
   "cell_type": "code",
   "execution_count": 11,
   "metadata": {},
   "outputs": [
    {
     "name": "stdout",
     "output_type": "stream",
     "text": [
      "Job:Warrior | HP:0 | MP:0 | Atk:15 | Def:0 | Weapon:sword\n"
     ]
    }
   ],
   "source": [
    "print(Warrior(5).status())"
   ]
  },
  {
   "cell_type": "code",
   "execution_count": 12,
   "metadata": {},
   "outputs": [
    {
     "name": "stdout",
     "output_type": "stream",
     "text": [
      "Job:Magic | HP:0 | MP:20 | Atk:0 | Def:0 | Weapon:rod\n"
     ]
    }
   ],
   "source": [
    "print(Magician(5).status())"
   ]
  },
  {
   "cell_type": "markdown",
   "metadata": {},
   "source": [
    "## 複数クラス継承\n",
    "注意点: super()を用いた時に__init__が呼ばれる順番が後ろからになる"
   ]
  },
  {
   "cell_type": "code",
   "execution_count": 13,
   "metadata": {
    "collapsed": true
   },
   "outputs": [],
   "source": [
    "class MagicWarrior(Warrior, Magician):\n",
    "    def __init__(self, level):\n",
    "        super().__init__(level)"
   ]
  },
  {
   "cell_type": "code",
   "execution_count": 14,
   "metadata": {
    "collapsed": true
   },
   "outputs": [],
   "source": [
    "class WarriorMagic(Magician, Warrior):\n",
    "    def __init__(self, level):\n",
    "        super().__init__(level)"
   ]
  },
  {
   "cell_type": "code",
   "execution_count": 15,
   "metadata": {},
   "outputs": [
    {
     "name": "stdout",
     "output_type": "stream",
     "text": [
      "Job:MagicWarrior | HP:0 | MP:20 | Atk:15 | Def:0 | Weapon:rod\n"
     ]
    }
   ],
   "source": [
    "print(MagicWarrior(5).status())"
   ]
  },
  {
   "cell_type": "code",
   "execution_count": 16,
   "metadata": {},
   "outputs": [
    {
     "name": "stdout",
     "output_type": "stream",
     "text": [
      "Job:WarriorMagic | HP:0 | MP:20 | Atk:15 | Def:0 | Weapon:sword\n"
     ]
    }
   ],
   "source": [
    "print(WarriorMagic(5).status())"
   ]
  },
  {
   "cell_type": "code",
   "execution_count": 19,
   "metadata": {},
   "outputs": [
    {
     "data": {
      "text/plain": [
       "[__main__.WarriorMagic,\n",
       " __main__.Magician,\n",
       " __main__.Warrior,\n",
       " __main__.Creature,\n",
       " object]"
      ]
     },
     "execution_count": 19,
     "metadata": {},
     "output_type": "execute_result"
    }
   ],
   "source": [
    "# 呼び出す順番の確認\n",
    "WarriorMagic.mro()"
   ]
  },
  {
   "cell_type": "code",
   "execution_count": 20,
   "metadata": {},
   "outputs": [
    {
     "data": {
      "text/plain": [
       "[__main__.MagicWarrior,\n",
       " __main__.Warrior,\n",
       " __main__.Magician,\n",
       " __main__.Creature,\n",
       " object]"
      ]
     },
     "execution_count": 20,
     "metadata": {},
     "output_type": "execute_result"
    }
   ],
   "source": [
    "MagicWarrior.mro()"
   ]
  },
  {
   "cell_type": "code",
   "execution_count": 21,
   "metadata": {
    "collapsed": true
   },
   "outputs": [],
   "source": [
    "### とりあえず、継承する際はsuperを基本的に使っていこう ! "
   ]
  },
  {
   "cell_type": "code",
   "execution_count": null,
   "metadata": {
    "collapsed": true
   },
   "outputs": [],
   "source": []
  }
 ],
 "metadata": {
  "kernelspec": {
   "display_name": "Python 3",
   "language": "python",
   "name": "python3"
  },
  "language_info": {
   "codemirror_mode": {
    "name": "ipython",
    "version": 3
   },
   "file_extension": ".py",
   "mimetype": "text/x-python",
   "name": "python",
   "nbconvert_exporter": "python",
   "pygments_lexer": "ipython3",
   "version": "3.6.2"
  }
 },
 "nbformat": 4,
 "nbformat_minor": 2
}

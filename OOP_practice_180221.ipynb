{
 "cells": [
  {
   "cell_type": "code",
   "execution_count": 1,
   "metadata": {
    "collapsed": true
   },
   "outputs": [],
   "source": [
    "# https://qiita.com/Usek/items/a206b8e49c02f756d636"
   ]
  },
  {
   "cell_type": "code",
   "execution_count": 10,
   "metadata": {},
   "outputs": [
    {
     "name": "stdout",
     "output_type": "stream",
     "text": [
      "call method\n",
      "100\n"
     ]
    }
   ],
   "source": [
    "class Spam:\n",
    "    val = 100\n",
    "    def ham(self):\n",
    "        self.egg('call method')\n",
    "    def egg(self, msg):\n",
    "        print(\"{0}\".format(msg))\n",
    "        print((\"{0}\".format(self.val)))\n",
    "spam = Spam()\n",
    "spam.ham()"
   ]
  },
  {
   "cell_type": "markdown",
   "metadata": {},
   "source": [
    "## クラス\n",
    "1. クラスSpamのオブジェクトspamを生成\n",
    "2. spamオブジェクトがhamメソッドを呼び出し\n",
    "3. spamオブジェクトのhamメソッドはspamオブジェクト(=自身)のeggメソッドを呼び出し\n",
    "4. spamオブジェクトのeggメソッドは引数のmsgを出力\n",
    "5. eggメソッドはspamオブジェクトの変数valを出力"
   ]
  },
  {
   "cell_type": "code",
   "execution_count": 15,
   "metadata": {},
   "outputs": [
    {
     "name": "stdout",
     "output_type": "stream",
     "text": [
      "15\n"
     ]
    }
   ],
   "source": [
    "class Spam:\n",
    "    def __init__(self, ham, egg):\n",
    "        self.ham = ham\n",
    "        self.egg = egg\n",
    "    def output(self):\n",
    "        sum = self.ham + self.egg\n",
    "        print(\"{0}\".format(sum))\n",
    "spam = Spam(5, 10)\n",
    "spam.output()"
   ]
  },
  {
   "cell_type": "markdown",
   "metadata": {},
   "source": [
    "## コンストラクタ\n",
    "- オブジェクト生成時に呼び出される特殊な関数のことを指す\n",
    "- オブジェクトが扱うデータの初期化などを行う\n",
    "- コンストラクタは```__init__()```という名前で定義"
   ]
  },
  {
   "cell_type": "markdown",
   "metadata": {},
   "source": [
    "## デストラクタ\n",
    "- オブジェクトが不要となりPythonが削除するときに自動で実行される関数\n",
    "- ```__del__```という名前のメソッドで定義。\n",
    "- ほとんどの場合デストラクタは定義しない\n",
    " - 仕様上、プロセス終了までにデストラクタが必ず呼び出される保証がない\n",
    " - 複数のオブジェクトが相互作用する場合、どのオブジェクトのデストラクタを先に実行するか決定できないため挙動が怪しくなる\n",
    "- リソースの解放にはwithを使用"
   ]
  },
  {
   "cell_type": "code",
   "execution_count": 16,
   "metadata": {},
   "outputs": [
    {
     "name": "stdout",
     "output_type": "stream",
     "text": [
      "base\n",
      "ham\n"
     ]
    }
   ],
   "source": [
    "class Base:\n",
    "    basevalue = \"base\"\n",
    "    def spam(self):\n",
    "        print(\"Base.spam()\")\n",
    "    def ham(self):\n",
    "        print(\"ham\")\n",
    "    \n",
    "class Derived(Base):\n",
    "    def spam(self):\n",
    "        print(\"Derived.spamf()\")\n",
    "        self.ham()\n",
    "derived = Derived()\n",
    "print(\"{0}\".format(derived.basevalue))\n",
    "derived.ham()"
   ]
  },
  {
   "cell_type": "markdown",
   "metadata": {},
   "source": [
    "## 継承\n",
    "class クラス名(基底クラス名) : 基底クラスの変数とメソッドを引き継ぐクラス(派生クラス)を定義できる"
   ]
  },
  {
   "cell_type": "code",
   "execution_count": 17,
   "metadata": {},
   "outputs": [
    {
     "name": "stdout",
     "output_type": "stream",
     "text": [
      "class B\n"
     ]
    }
   ],
   "source": [
    "class A:\n",
    "    def method(self):\n",
    "        print(\"calss A\")\n",
    "\n",
    "class B:\n",
    "    def method(self):\n",
    "        print(\"class B\")\n",
    "\n",
    "class C(A):\n",
    "    def method(self):\n",
    "        print(\"class C\")\n",
    "        \n",
    "class D(B, C):\n",
    "    pass\n",
    "\n",
    "d = D()\n",
    "d.method()"
   ]
  },
  {
   "cell_type": "markdown",
   "metadata": {},
   "source": [
    "## 多重継承\n",
    "- クラスないにpassと記述すると何もしないクラスを作成できる\n",
    "- クラスDのオブジェクトdのメソッドmethod()を呼び出すと、クラスDの基底クラスBとCのうち、先に記述されているクラスBのメソッドmethod()が呼び出される\n",
    "- 上記のプログラムのクラスBをクラスDと同様passのみを記述すると、基底クラスBにはメソッドmethod()が存在しないため、クラスCのメソッドmethod()が呼び出される\n",
    "- クラスCもpassのみを記述すると、クラスCの基底クラスであるクラスAのメソッドmethod()が呼び出される\n",
    "- クラスAをpassのみ記述すると、いずれのクラスにもmethod()が存在しないので例外が発生する。"
   ]
  },
  {
   "cell_type": "code",
   "execution_count": 22,
   "metadata": {},
   "outputs": [],
   "source": [
    "class Spam:\n",
    "    __attr = 100\n",
    "    def __init__(self):\n",
    "        self.__attr = 999\n",
    "    def method(self):\n",
    "        self.__method()\n",
    "    def __method(self):\n",
    "        print(self.__attr)\n",
    "spam = Spam()\n",
    "# spam.method() ok\n",
    "# spam.__method() ng\n",
    "# spam.__attr ng"
   ]
  },
  {
   "cell_type": "markdown",
   "metadata": {},
   "source": [
    "## カプセル化\n",
    "- spam.method()は正常に実行されるが、spam.__method()の行でエラーが発生する\n",
    "- Spamのメソッドmethodは先頭に\"__\"が付いていないことからpublic。オブジェクトから直接呼び出すことができる\n",
    "- methodメソッド内で先頭に\"__\"の付いている__method()を呼び出していますが、内部からの参照のためエラーにはならない。\n",
    "- spamオブジェクトが直接__method()を呼び出そうとした場合、先頭に\"__\"が付いている__method()はprivateなため呼び出すことができず、エラーとなる。\n",
    "- spam.__attrも同様"
   ]
  },
  {
   "cell_type": "code",
   "execution_count": null,
   "metadata": {
    "collapsed": true
   },
   "outputs": [],
   "source": []
  }
 ],
 "metadata": {
  "kernelspec": {
   "display_name": "Python 3",
   "language": "python",
   "name": "python3"
  },
  "language_info": {
   "codemirror_mode": {
    "name": "ipython",
    "version": 3
   },
   "file_extension": ".py",
   "mimetype": "text/x-python",
   "name": "python",
   "nbconvert_exporter": "python",
   "pygments_lexer": "ipython3",
   "version": "3.6.2"
  }
 },
 "nbformat": 4,
 "nbformat_minor": 2
}
